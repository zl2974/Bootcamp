{
 "cells": [
  {
   "cell_type": "code",
   "execution_count": null,
   "outputs": [],
   "source": [
    "import pandas as pd\n",
    "\n",
    "services = pd.read_csv(\"./mimic-iii-clinical-database-1.4/SERVICES.csv\", parse_dates = ['TRANSFERTIME'])\n",
    "transfers = pd.read_csv(\"./mimic-iii-clinical-database-1.4/TRANSFERS.csv\", parse_dates = ['INTIME', 'OUTTIME'])\n",
    "callout = pd.read_csv(\"./mimic-iii-clinical-database-1.4/CALLOUT.csv\", parse_dates = ['OUTCOMETIME'])\n",
    "patients = pd.read_csv(\"./mimic-iii-clinical-database-1.4/PATIENTS.csv\", parse_dates = ['DOD', 'DOB', 'DOD_HOSP', 'DOD_SSN'])\n",
    "admission = pd.read_csv(\"./mimic-iii-clinical-database-1.4/ADMISSIONS.csv\",parse_dates=[\"ADMITTIME\",\"DISCHTIME\",\"DEATHTIME\"])"
   ],
   "metadata": {
    "collapsed": false,
    "pycharm": {
     "name": "#%%\n"
    }
   }
  },
  {
   "cell_type": "code",
   "execution_count": null,
   "outputs": [],
   "source": [
    "services.columns = services.columns.str.lower()\n",
    "transfers.columns = transfers.columns.str.lower()"
   ],
   "metadata": {
    "collapsed": false,
    "pycharm": {
     "name": "#%%\n"
    }
   }
  },
  {
   "cell_type": "code",
   "execution_count": null,
   "outputs": [],
   "source": [
    "# In[ ]:\n",
    "\n",
    "# Load the publicly accessible version of the Services table\n",
    "# and date restrict it simply to reduce the size slightly by eliminating\n",
    "# entries far outside the dates of interest\n",
    "services = services[services['transfertime'] > pd.Timestamp('20010101')]\n",
    "\n",
    "\n",
    "# In[ ]:\n",
    "\n",
    "# Create a 'med_service_only' dataframe: essentially a copy of the Services table that only contains entries\n",
    "# related to those patients who were taken care of exclusively by the MED service during their hospital admission.\n",
    "# i.e. curr_service = 'MED' and size(hadm_id) = 1\n",
    "row_ids = services.groupby('hadm_id').size()\n",
    "row_ids = row_ids[row_ids < 2]\n",
    "one_service_only = services[services['hadm_id'].isin(row_ids.index)]\n",
    "med_service_only = one_service_only[one_service_only['curr_service'] == 'MED']"
   ],
   "metadata": {
    "collapsed": false,
    "pycharm": {
     "name": "#%%\n"
    }
   }
  },
  {
   "cell_type": "code",
   "execution_count": null,
   "outputs": [],
   "source": [
    "# In[ ]:\n",
    "# Left join transfers to med_service_only.\n",
    "# This creates a dataframe 'df' where every transfer in the database is represented, but only those patients\n",
    "# taken care of exclusively by the MED service during their stay have data from the Services table.\n",
    "df = pd.merge(transfers, med_service_only, how = 'left', on = 'hadm_id')\n",
    "\n",
    "\n",
    "# In[ ]:\n",
    "# Remove transfers that are not related to an ICU stay\n",
    "df2 = df[df['icustay_id'].notnull()]\n",
    "\n",
    "# Filter to specified dates\n",
    "# MICU == CC6D & CC7D after April 10th, 2006 (until end of dataset)\n",
    "df3 = df2[(df2['intime'] > pd.Timestamp('20060410'))]\n",
    "\n",
    "# Select out those patients who were under the care of either of a 'West Campus' MICU team\n",
    "# MSICU is a MICU but it is on the 'East Campus' and not of interest in this study.\n",
    "df4 = df3[(df3['curr_service'] == 'MED') & (df3['curr_careunit'] != 'MSICU')]\n",
    "\n",
    "\n",
    "# In[ ]:\n",
    "\n",
    "# Trim down the dataframe that we will check each MICU patient against to \n",
    "# determine the presence of inboarders (non-MICU patients boarding in the MICU)\n",
    "\n",
    "inboarders = df3[(df3['curr_service'] != 'MED') & \n",
    "                 (df3['curr_careunit'] == 'MICU')]\n",
    "\n",
    "inboarders = inboarders[['intime', 'outtime', 'curr_careunit']]"
   ],
   "metadata": {
    "collapsed": false,
    "pycharm": {
     "name": "#%%\n"
    }
   }
  },
  {
   "cell_type": "code",
   "execution_count": null,
   "outputs": [],
   "source": [
    "df3.groupby([\"curr_careunit\",\"curr_service\"]).size()"
   ],
   "metadata": {
    "collapsed": false,
    "pycharm": {
     "name": "#%%\n"
    }
   }
  },
  {
   "cell_type": "code",
   "execution_count": null,
   "outputs": [],
   "source": [
    "df3[df3.curr_service.isna()].curr_careunit.value_counts()"
   ],
   "metadata": {
    "collapsed": false,
    "pycharm": {
     "name": "#%%\n"
    }
   }
  },
  {
   "cell_type": "code",
   "execution_count": null,
   "outputs": [],
   "source": [
    "df3.curr_service.isna().sum()"
   ],
   "metadata": {
    "collapsed": false,
    "pycharm": {
     "name": "#%%\n"
    }
   }
  },
  {
   "cell_type": "code",
   "execution_count": null,
   "outputs": [],
   "source": [
    "inboarders.shape"
   ],
   "metadata": {
    "collapsed": false,
    "pycharm": {
     "name": "#%%\n"
    }
   }
  },
  {
   "cell_type": "code",
   "execution_count": null,
   "outputs": [],
   "source": [
    "df4.shape"
   ],
   "metadata": {
    "collapsed": false,
    "pycharm": {
     "name": "#%%\n"
    }
   }
  },
  {
   "cell_type": "code",
   "execution_count": null,
   "outputs": [],
   "source": [
    "import numpy as np\n",
    "# In[ ]:\n",
    "\n",
    "# For each patient under the care of a West Campus MICU team, calculate the number of\n",
    "# non-MICU patients (i.e. cared for by other ICU teams) physically occupying MICU beds\n",
    "\n",
    "# Start with a copy of the dataframe containing all the MICU patients\n",
    "df5 = df4\n",
    "\n",
    "# Create a column that defines 1 = patient being cared for by a MICU team in a location other\n",
    "# than a MICU (e.g. in the SICU). We default to 0 here, then change the value if appropriate during for loop below.\n",
    "df5['boarder_status'] = 0\n",
    "\n",
    "# Create a column that distinguishes whether the patient is on the MICU Orange or Green service\n",
    "# 0 = Orange, 1 = Green\n",
    "df5['micu_team'] = 0\n",
    "\n",
    "# Create columns that specify how many non-MICU patients were occupying MICU beds at the time \n",
    "# each patient was admitted/transferred to the care of a MICU team\n",
    "df5['cc6d_boarder_count'] = np.nan\n",
    "df5['total_boarder_count'] = np.nan\n",
    "\n",
    "for row_index, row in df5.iterrows():\n",
    "    \n",
    "    # Determine which patients in the inboarders dataframe (non-MICU patients in MICU beds) were in\n",
    "    # MICU-Orange (CC6D) and MICU-Green (CC7D) beds at the time of each MICU patient's ICU stay intime\n",
    "    combined_boarders = inboarders[((inboarders['intime'] < row['intime']) & \n",
    "                               (inboarders['outtime'] > row['intime'])) & \n",
    "                               (inboarders['curr_careunit'] == 'MICU')]\n",
    "    \n",
    "    # Store the inboarder counts in their respective columns\n",
    "    df5.loc[row_index, 'total_boarder_count'] = len(combined_boarders.index)\n",
    "    \n",
    "    # If this row represents a MICU patient boarding in a non-MICU ICU bed, change 'boarder_status' to 1 (default = 0)\n",
    "    if (row['curr_careunit'] != 'MICU'):\n",
    "        df5.loc[row_index, 'boarder_status'] = 1\n",
    "        \n",
    "    # If this row represents a MICU patient in CC7D, it is almost certainly a patient cared for by the MICU Green team\n",
    "    if (row['curr_careunit'] == 'MICU'):\n",
    "        df5.loc[row_index, 'micu_team'] = 1\n",
    "\n"
   ],
   "metadata": {
    "collapsed": false,
    "pycharm": {
     "name": "#%%\n"
    }
   }
  },
  {
   "cell_type": "code",
   "execution_count": null,
   "outputs": [],
   "source": [
    "df5.micu_team.value_counts()"
   ],
   "metadata": {
    "collapsed": false,
    "pycharm": {
     "name": "#%%\n"
    }
   }
  },
  {
   "cell_type": "code",
   "execution_count": null,
   "outputs": [],
   "source": [
    "df5.head()"
   ],
   "metadata": {
    "collapsed": false,
    "pycharm": {
     "name": "#%%\n"
    }
   }
  },
  {
   "cell_type": "code",
   "execution_count": null,
   "outputs": [],
   "source": [
    "# In[6]:\n",
    "\n",
    "# Team census and outboarder count for the MICU team taking care of a given patient\n",
    "df5['team_census'] = np.nan\n",
    "df5['team_outboarders'] = np.nan\n",
    "df5['team_census_same_room'] = np.nan\n",
    "\n",
    "# For each MICU patient...\n",
    "for row_index, row in df5.iterrows():\n",
    "    \n",
    "    # ... being taken care of by the MICU-Orange team ...\n",
    "    if row['micu_team'] == 0:\n",
    "        \n",
    "        # Determine how many patients (boarders + non-boarders) were assigned to the MICU Orange team at that time\n",
    "        # NOT INCLUSIVE OF THIS PATIENT\n",
    "        census = df5[(df5['transfers.intime'] < row['transfers.intime']) & \n",
    "                     (df5['transfers.outtime'] > row['transfers.intime']) & \n",
    "                     (df5['micu_team'] == 0)]\n",
    "        \n",
    "        # Determine how many NON-boarders the MICU-Orange service was taking care of at that time.\n",
    "        # NOT INCLUSIVE OF THIS PATIENT\n",
    "        nonboarders = census[census['curr_careunit'] == 'MICU']\n",
    "        \n",
    "        # Determine how many boarders the MICU-Orange service was taking care of at that time.\n",
    "        # NOT INCLUSIVE OF THIS PATIENT\n",
    "        outboarders = census[census['curr_careunit'] != 'MICU']\n",
    "#         outboarders = df5[(df5['transfers.intime'] < row['transfers.intime']) &\n",
    "#                           (df5['transfers.outtime'] > row['transfers.intime']) & \n",
    "#                           (df5['micu_team'] == 0) &\n",
    "#                           (df5['curr_ward'] != 'CC6D')]\n",
    "\n",
    "        # Determine how many patients the MICU-Orange service was taking care of at that time...\n",
    "        # ...IN THE SAME ROOM AS THIS PATIENT\n",
    "        # ...NOT INCLUSIVE OF THIS PATIENT\n",
    "        census_same_room = census[census['curr_careunit'] == row['curr_careunit']]\n",
    "        \n",
    "    # ... being taken care of by the MICU-Green team ...\n",
    "    else:\n",
    "        \n",
    "        # Determine how many patients (boarders + non-boarders) were assigned to the MICU Green team at that time\n",
    "        # NOT INCLUSIVE OF THIS PATIENT\n",
    "        census = df5[(df5['intime'] < row['intime']) & \n",
    "                     (df5['outtime'] > row['intime']) & \n",
    "                     (df5['micu_team'] == 1)]\n",
    "    \n",
    "        # Determine how many NON-boarders the MICU-Green service was taking care of at that time.\n",
    "        # NOT INCLUSIVE OF THIS PATIENT\n",
    "        nonboarders = census[census['curr_careunit'] == 'MICU']\n",
    "        \n",
    "        # Determine how many boarders the MICU-Green service was taking care of at that time.\n",
    "        # NOT INCLUSIVE OF THIS PATIENT\n",
    "        outboarders = census[census['curr_careunit'] != 'MICU']\n",
    "#         outboarders = df5[(df5['transfers.intime'] < row['transfers.intime']) &\n",
    "#                           (df5['transfers.outtime'] > row['transfers.intime']) & \n",
    "#                           (df5['micu_team'] == 1) &\n",
    "#                           (df5['curr_ward'] != 'CC7D')]\n",
    "\n",
    "        # Determine how many patients the MICU-Orange service was taking care of at that time...\n",
    "        # ...IN THE SAME ROOM AS THIS PATIENT\n",
    "        # ...NOT INCLUSIVE OF THIS PATIENT\n",
    "        census_same_room = census[census['curr_careunit'] == row['curr_careunit']]\n",
    "        \n",
    "    \n",
    "    df5.loc[row_index, 'team_census'] = len(census.index)\n",
    "    df5.loc[row_index, 'team_outboarders'] = len(outboarders)\n",
    "    df5.loc[row_index, 'team_census_same_room'] = len(census_same_room)\n"
   ],
   "metadata": {
    "collapsed": false,
    "pycharm": {
     "name": "#%%\n"
    }
   }
  },
  {
   "cell_type": "code",
   "execution_count": null,
   "outputs": [],
   "source": [
    "# In[7]:\n",
    "\n",
    "# Store df5v2\n",
    "# mimic_common.df_to_csv('df5v2.csv', df5)\n",
    "\n",
    "# Load df5v2 from stored CSV file (if we don't want to have to re-generate it)\n",
    "# df5 = pd.read_csv('~/dev/data/mimic3_local_storage/df5v2.csv', parse_dates=[8, 15, 20])\n",
    "\n",
    "\n",
    "# In[8]:\n",
    "\n",
    "# Team census and outboarder count for the OTHER MICU team (the one NOT caring for a given patient)\n",
    "df5.loc['other_team_census'] = np.nan\n",
    "df5.loc['other_team_outboarders'] = np.nan\n",
    "\n",
    "# For each MICU patient...\n",
    "for row_index, row in df5.iterrows():\n",
    "    \n",
    "    # ... being taken care of by the MICU-Orange team ...\n",
    "    if (row['micu_team'] == 0):\n",
    "        \n",
    "        # Determine how many patients (boarders + non-boarders) were assigned to the MICU Green team at that time\n",
    "        census = df5[(df5['intime'] < row['intime']) & \n",
    "                     (df5['outtime'] > row['intime']) & \n",
    "                     (df5['micu_team'] == 1)]\n",
    "        \n",
    "        # Determine how many boarders the MICU-Green service was taking care of at that time.\n",
    "        outboarders = census[census['curr_careunit'] != 'MICU']\n",
    "#         outboarders = df5[(df5['transfers.intime'] < row['transfers.intime']) &\n",
    "#                           (df5['transfers.outtime'] > row['transfers.intime']) & \n",
    "#                           (df5['micu_team'] == 1) &\n",
    "#                           (df5['curr_ward'] != 'CC7D')]\n",
    "    \n",
    "    # ... being taken care of by the MICU-Green team ...\n",
    "    else:\n",
    "        \n",
    "        # Determine how many patients (boarders + non-boarders) were assigned to the MICU Orange team at that time\n",
    "        census = df5[(df5['intime'] < row['intime']) & \n",
    "                     (df5['outtime'] > row['intime']) & \n",
    "                     (df5['micu_team'] == 0)]\n",
    "    \n",
    "        # Determine how many boarders the MICU-Orange service was taking care of at that time.\n",
    "        outboarders = census[census['curr_careunit'] != 'MICU']\n",
    "#         outboarders = df5[(df5['transfers.intime'] < row['transfers.intime']) &\n",
    "#                           (df5['transfers.outtime'] > row['transfers.intime']) & \n",
    "#                           (df5['micu_team'] == 0) &\n",
    "#                           (df5['curr_ward'] != 'CC6D')]\n",
    "    \n",
    "    df5.loc[row_index, 'other_team_census'] = len(census.index)\n",
    "    df5.loc[row_index, 'other_team_outboarders'] = len(outboarders)"
   ],
   "metadata": {
    "collapsed": false,
    "pycharm": {
     "name": "#%%\n"
    }
   }
  },
  {
   "cell_type": "code",
   "execution_count": null,
   "outputs": [],
   "source": [
    "                 \n",
    "# Location restrict to the MSICU\n",
    "msicu_transfers = transfers[(transfers['curr_careunit'] == 'MSICU')]\n",
    "\n",
    "\n",
    "# In[12]:\n",
    "\n",
    "# Team census and outboarder count for the Med/Surg ICU (an ICU on the hospital's other campus)\n",
    "df5['msicu_team_census'] = np.nan\n",
    "# df5['msicu_team_outboarders'] = np.nan\n",
    "\n",
    "\n",
    "# For each MICU patient...\n",
    "for row_index, row in df5.iterrows():\n",
    "        \n",
    "    # Determine how many patients (boarders + non-boarders) were assigned to the MICU Green team at that time\n",
    "    census = msicu_transfers[(msicu_transfers['intime'] < row['intime']) & \n",
    "                             (msicu_transfers['outtime'] > row['intime'])]\n",
    "    \n",
    "    df5.loc[row_index, 'msicu_team_census'] = len(census.index)\n",
    "   "
   ],
   "metadata": {
    "collapsed": false,
    "pycharm": {
     "name": "#%%\n"
    }
   }
  },
  {
   "cell_type": "code",
   "execution_count": null,
   "outputs": [],
   "source": [
    "# In[14]:\n",
    "\n",
    "# Add a column that estimates the EXPECTED number of outboarders\n",
    "df5['expected_team_outboarders'] = np.nan\n",
    "df5.expected_team_outboarders[(df5['micu_team'] == 0)] = (df5['team_census'] - (8 - df5['total_boarder_count']))\n",
    "df5.expected_team_outboarders[(df5['micu_team'] == 1)] = (df5['team_census'] - (8 - df5['total_boarder_count']))\n",
    "\n",
    "# Add a column that estimates the EXPECTED number of remaining beds in the nominal ICU of the team caring for the patient\n",
    "df5['remaining_beds'] = np.nan\n",
    "df5.remaining_beds[df5['micu_team'] == 0] = (8 - (df5['team_census'] - df5['team_outboarders']) - df5['total_boarder_count'])\n",
    "df5.remaining_beds[df5['micu_team'] == 1] = (8 - (df5['team_census'] - df5['team_outboarders']) - df5['total_boarder_count'])"
   ],
   "metadata": {
    "collapsed": false,
    "pycharm": {
     "name": "#%%\n"
    }
   }
  },
  {
   "cell_type": "code",
   "execution_count": null,
   "outputs": [],
   "source": [
    "age = pd.merge(admission,patients,left_on=\"SUBJECT_ID\",right_on=\"SUBJECT_ID\")\n",
    "\n",
    "age[\"AGE\"] = (age.ADMITTIME.dt.year - age.DOB.dt.year)\n",
    "\n",
    "age.loc[age.AGE>200,\"AGE\"]= 89\n",
    "\n",
    "age = age.rename(columns=str.lower)\n",
    "\n",
    "df5 = pd.merge(df5,age.loc[:,[\"hadm_id\",\"age\"]],left_on=\"hadm_id\",right_on=\"hadm_id\")"
   ],
   "metadata": {
    "collapsed": false,
    "pycharm": {
     "name": "#%%\n"
    }
   }
  }
 ],
 "metadata": {
  "kernelspec": {
   "name": "pycharm-4af16813",
   "language": "python",
   "display_name": "PyCharm (Bootcamp)"
  },
  "language_info": {
   "codemirror_mode": {
    "name": "ipython",
    "version": 3
   },
   "file_extension": ".py",
   "mimetype": "text/x-python",
   "name": "python",
   "nbconvert_exporter": "python",
   "pygments_lexer": "ipython3",
   "version": "3.8.5"
  }
 },
 "nbformat": 4,
 "nbformat_minor": 4
}