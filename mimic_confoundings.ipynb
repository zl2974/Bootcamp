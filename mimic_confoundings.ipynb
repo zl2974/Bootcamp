{
 "cells": [
  {
   "cell_type": "code",
   "execution_count": 1,
   "metadata": {},
   "outputs": [],
   "source": [
    "import pandas as pd\n",
    "import numpy as np\n",
    "\n",
    "pd.set_option('mode.chained_assignment', None)\n",
    "\n",
    "services = pd.read_csv(\"./data/SERVICES.csv\", parse_dates = ['TRANSFERTIME'])\n",
    "transfers = pd.read_csv(\"./data/TRANSFERS.csv\", parse_dates = ['INTIME', 'OUTTIME'])\n",
    "callout = pd.read_csv(\"./data/CALLOUT.csv\", parse_dates = ['OUTCOMETIME'])\n",
    "patients = pd.read_csv(\"./data/PATIENTS.csv\", parse_dates = ['DOD', 'DOB', 'DOD_HOSP', 'DOD_SSN'])\n",
    "admissions = pd.read_csv(\"./data/ADMISSIONS.csv\",parse_dates=[\"ADMITTIME\"])\n",
    "\n",
    "oasis = pd.read_csv(\"./data/oasis.csv\")\n",
    "elixhauser = pd.read_csv(\"./data/elixhauser.csv\")\n",
    "\n",
    "services.columns = services.columns.str.lower()\n",
    "transfers.columns = transfers.columns.str.lower()\n",
    "callout = callout.rename(columns = str.lower)\n",
    "patients = patients.rename(columns = str.lower)\n",
    "admissions = admissions.rename(columns=str.lower)\n",
    "\n",
    "# In[ ]:\n",
    "\n",
    "# Load the publicly accessible version of the Services table\n",
    "# and date restrict it simply to reduce the size slightly by eliminating\n",
    "# entries far outside the dates of interest\n",
    "services = services[services['transfertime'] > pd.Timestamp('20010101')]\n",
    "\n",
    "\n",
    "# In[ ]:\n",
    "\n",
    "# Create a 'med_service_only' dataframe: essentially a copy of the Services table that only contains entries\n",
    "# related to those patients who were taken care of exclusively by the MED service during their hospital admission.\n",
    "# i.e. curr_service = 'MED' and size(hadm_id) = 1\n",
    "row_ids = services.groupby('hadm_id').size()\n",
    "row_ids = row_ids[row_ids < 2]\n",
    "one_service_only = services[services['hadm_id'].isin(row_ids.index)]\n",
    "med_service_only = one_service_only[one_service_only['curr_service'] == 'MED']"
   ]
  },
  {
   "cell_type": "code",
   "execution_count": 2,
   "metadata": {},
   "outputs": [],
   "source": [
    "# In[ ]:\n",
    "# Left join transfers to med_service_only.\n",
    "# This creates a dataframe 'df' where every transfer in the database is represented, but only those patients\n",
    "# taken care of exclusively by the MED service during their stay have data from the Services table.\n",
    "df = pd.merge(transfers, med_service_only, how = 'left', on = 'hadm_id')\n",
    "\n",
    "\n",
    "# In[ ]:\n",
    "# Remove transfers that are not related to an ICU stay\n",
    "df2 = df[df['icustay_id'].notnull()]\n",
    "\n",
    "# Filter to specified dates\n",
    "# MICU == CC6D & CC7D after April 10th, 2006 (until end of dataset)\n",
    "df3 = df2[(df2['intime'] > pd.Timestamp('20060410'))]\n",
    "\n",
    "# Select out those patients who were under the care of either of a 'West Campus' MICU team\n",
    "# MSICU is a MICU but it is on the 'East Campus' and not of interest in this study.\n",
    "df4 = df3[(df3['curr_service'] == 'MED') & (df3['curr_careunit'] != 'MSICU')]\n",
    "\n",
    "\n",
    "# In[ ]:\n",
    "\n",
    "# Trim down the dataframe that we will check each MICU patient against to \n",
    "# determine the presence of inboarders (non-MICU patients boarding in the MICU)\n",
    "\n",
    "inboarders = df3[(df3['curr_service'] != 'MED') & \n",
    "                 (df3['curr_careunit'] == 'MICU')]\n",
    "\n",
    "inboarders = inboarders[['intime', 'outtime', 'curr_careunit']]"
   ]
  },
  {
   "cell_type": "code",
   "execution_count": 3,
   "metadata": {},
   "outputs": [
    {
     "data": {
      "text/plain": "(22228, 18)"
     },
     "execution_count": 3,
     "metadata": {},
     "output_type": "execute_result"
    }
   ],
   "source": [
    "df3.groupby([\"curr_careunit\",\"curr_service\"]).size()\n",
    "\n",
    "\n",
    "df3[df3.curr_service.isna()].curr_careunit.value_counts()\n",
    "\n",
    "\n",
    "df3.curr_service.isna().sum()\n",
    "\n",
    "\n",
    "inboarders.shape\n",
    "\n",
    "\n",
    "df4.shape"
   ]
  },
  {
   "cell_type": "code",
   "execution_count": 4,
   "metadata": {},
   "outputs": [],
   "source": [
    "\n",
    "# In[ ]:\n",
    "\n",
    "# For each patient under the care of a West Campus MICU team, calculate the number of\n",
    "# non-MICU patients (i.e. cared for by other ICU teams) physically occupying MICU beds\n",
    "\n",
    "# Start with a copy of the dataframe containing all the MICU patients\n",
    "df5 = df4.copy()\n",
    "\n",
    "# Create a column that defines 1 = patient being cared for by a MICU team in a location other\n",
    "# than a MICU (e.g. in the SICU). We default to 0 here, then change the value if appropriate during for loop below.\n",
    "df5['boarder_status'] = 0\n",
    "\n",
    "# Create a column that distinguishes whether the patient is on the MICU Orange or Green service\n",
    "# 0 = Orange, 1 = Green\n",
    "df5['micu_team'] = 0\n",
    "\n",
    "# Create columns that specify how many non-MICU patients were occupying MICU beds at the time \n",
    "# each patient was admitted/transferred to the care of a MICU team\n",
    "df5['cc6d_boarder_count'] = np.nan\n",
    "df5['total_boarder_count'] = np.nan\n",
    "\n",
    "for row_index, row in df5.iterrows():\n",
    "    \n",
    "    # Determine which patients in the inboarders dataframe (non-MICU patients in MICU beds) were in\n",
    "    # MICU-Orange (CC6D) and MICU-Green (CC7D) beds at the time of each MICU patient's ICU stay intime\n",
    "    combined_boarders = inboarders[((inboarders['intime'] < row['intime']) & \n",
    "                               (inboarders['outtime'] > row['intime'])) & \n",
    "                               (inboarders['curr_careunit'] == 'MICU')]\n",
    "    \n",
    "    # Store the inboarder counts in their respective columns\n",
    "    df5.loc[row_index, 'total_boarder_count'] = len(combined_boarders.index)\n",
    "    \n",
    "    # If this row represents a MICU patient boarding in a non-MICU ICU bed, change 'boarder_status' to 1 (default = 0)\n",
    "    if (row['curr_careunit'] != 'MICU'):\n",
    "        df5.loc[row_index, 'boarder_status'] = 1\n",
    "        \n",
    "    # If this row represents a MICU patient in CC7D, it is almost certainly a patient cared for by the MICU Green team\n",
    "    if (row['curr_careunit'] == 'MICU'):\n",
    "        df5.loc[row_index, 'micu_team'] = 1\n",
    "\n"
   ]
  },
  {
   "cell_type": "code",
   "execution_count": 5,
   "metadata": {},
   "outputs": [
    {
     "data": {
      "text/plain": "   row_id_x  subject_id_x  hadm_id  icustay_id    dbsource eventtype  \\\n0       657           111   192123    254245.0     carevue  transfer   \n3       660           111   155897    249202.0  metavision     admit   \n5       662           111   155897    249202.0  metavision  transfer   \n7       664           111   155897    249202.0  metavision  transfer   \n9       666           112   174105    289222.0     carevue     admit   \n\n  prev_careunit curr_careunit  prev_wardid  curr_wardid  ...     los row_id_y  \\\n0           CCU          MICU          7.0         23.0  ...  125.19    175.0   \n3           NaN          MICU          NaN         52.0  ...    1.09    176.0   \n5           NaN          MICU         32.0         52.0  ...    1.65    176.0   \n7           NaN          MICU         32.0         23.0  ...    9.71    176.0   \n9           NaN          MICU          NaN         12.0  ...   20.16    177.0   \n\n   subject_id_y        transfertime  prev_service curr_service boarder_status  \\\n0         111.0 2142-04-24 06:56:33           NaN          MED              0   \n3         111.0 2144-07-01 04:13:59           NaN          MED              0   \n5         111.0 2144-07-01 04:13:59           NaN          MED              0   \n7         111.0 2144-07-01 04:13:59           NaN          MED              0   \n9         112.0 2194-06-13 18:41:27           NaN          MED              0   \n\n  micu_team  cc6d_boarder_count  total_boarder_count  \n0         1                 NaN                  1.0  \n3         1                 NaN                  0.0  \n5         1                 NaN                  0.0  \n7         1                 NaN                  0.0  \n9         1                 NaN                  1.0  \n\n[5 rows x 22 columns]",
      "text/html": "<div>\n<style scoped>\n    .dataframe tbody tr th:only-of-type {\n        vertical-align: middle;\n    }\n\n    .dataframe tbody tr th {\n        vertical-align: top;\n    }\n\n    .dataframe thead th {\n        text-align: right;\n    }\n</style>\n<table border=\"1\" class=\"dataframe\">\n  <thead>\n    <tr style=\"text-align: right;\">\n      <th></th>\n      <th>row_id_x</th>\n      <th>subject_id_x</th>\n      <th>hadm_id</th>\n      <th>icustay_id</th>\n      <th>dbsource</th>\n      <th>eventtype</th>\n      <th>prev_careunit</th>\n      <th>curr_careunit</th>\n      <th>prev_wardid</th>\n      <th>curr_wardid</th>\n      <th>...</th>\n      <th>los</th>\n      <th>row_id_y</th>\n      <th>subject_id_y</th>\n      <th>transfertime</th>\n      <th>prev_service</th>\n      <th>curr_service</th>\n      <th>boarder_status</th>\n      <th>micu_team</th>\n      <th>cc6d_boarder_count</th>\n      <th>total_boarder_count</th>\n    </tr>\n  </thead>\n  <tbody>\n    <tr>\n      <th>0</th>\n      <td>657</td>\n      <td>111</td>\n      <td>192123</td>\n      <td>254245.0</td>\n      <td>carevue</td>\n      <td>transfer</td>\n      <td>CCU</td>\n      <td>MICU</td>\n      <td>7.0</td>\n      <td>23.0</td>\n      <td>...</td>\n      <td>125.19</td>\n      <td>175.0</td>\n      <td>111.0</td>\n      <td>2142-04-24 06:56:33</td>\n      <td>NaN</td>\n      <td>MED</td>\n      <td>0</td>\n      <td>1</td>\n      <td>NaN</td>\n      <td>1.0</td>\n    </tr>\n    <tr>\n      <th>3</th>\n      <td>660</td>\n      <td>111</td>\n      <td>155897</td>\n      <td>249202.0</td>\n      <td>metavision</td>\n      <td>admit</td>\n      <td>NaN</td>\n      <td>MICU</td>\n      <td>NaN</td>\n      <td>52.0</td>\n      <td>...</td>\n      <td>1.09</td>\n      <td>176.0</td>\n      <td>111.0</td>\n      <td>2144-07-01 04:13:59</td>\n      <td>NaN</td>\n      <td>MED</td>\n      <td>0</td>\n      <td>1</td>\n      <td>NaN</td>\n      <td>0.0</td>\n    </tr>\n    <tr>\n      <th>5</th>\n      <td>662</td>\n      <td>111</td>\n      <td>155897</td>\n      <td>249202.0</td>\n      <td>metavision</td>\n      <td>transfer</td>\n      <td>NaN</td>\n      <td>MICU</td>\n      <td>32.0</td>\n      <td>52.0</td>\n      <td>...</td>\n      <td>1.65</td>\n      <td>176.0</td>\n      <td>111.0</td>\n      <td>2144-07-01 04:13:59</td>\n      <td>NaN</td>\n      <td>MED</td>\n      <td>0</td>\n      <td>1</td>\n      <td>NaN</td>\n      <td>0.0</td>\n    </tr>\n    <tr>\n      <th>7</th>\n      <td>664</td>\n      <td>111</td>\n      <td>155897</td>\n      <td>249202.0</td>\n      <td>metavision</td>\n      <td>transfer</td>\n      <td>NaN</td>\n      <td>MICU</td>\n      <td>32.0</td>\n      <td>23.0</td>\n      <td>...</td>\n      <td>9.71</td>\n      <td>176.0</td>\n      <td>111.0</td>\n      <td>2144-07-01 04:13:59</td>\n      <td>NaN</td>\n      <td>MED</td>\n      <td>0</td>\n      <td>1</td>\n      <td>NaN</td>\n      <td>0.0</td>\n    </tr>\n    <tr>\n      <th>9</th>\n      <td>666</td>\n      <td>112</td>\n      <td>174105</td>\n      <td>289222.0</td>\n      <td>carevue</td>\n      <td>admit</td>\n      <td>NaN</td>\n      <td>MICU</td>\n      <td>NaN</td>\n      <td>12.0</td>\n      <td>...</td>\n      <td>20.16</td>\n      <td>177.0</td>\n      <td>112.0</td>\n      <td>2194-06-13 18:41:27</td>\n      <td>NaN</td>\n      <td>MED</td>\n      <td>0</td>\n      <td>1</td>\n      <td>NaN</td>\n      <td>1.0</td>\n    </tr>\n  </tbody>\n</table>\n<p>5 rows × 22 columns</p>\n</div>"
     },
     "execution_count": 5,
     "metadata": {},
     "output_type": "execute_result"
    }
   ],
   "source": [
    "df5.micu_team.value_counts()\n",
    "\n",
    "\n",
    "df5.head()"
   ]
  },
  {
   "cell_type": "code",
   "execution_count": 6,
   "metadata": {},
   "outputs": [],
   "source": [
    "# In[6]:\n",
    "\n",
    "# Team census and outboarder count for the MICU team taking care of a given patient\n",
    "df5['team_census'] = np.nan\n",
    "df5['team_outboarders'] = np.nan\n",
    "df5['team_census_same_room'] = np.nan\n",
    "\n",
    "# For each MICU patient...\n",
    "for row_index, row in df5.iterrows():\n",
    "    \n",
    "    # ... being taken care of by the MICU-Orange team ...\n",
    "    if row['micu_team'] == 0:\n",
    "        \n",
    "        # Determine how many patients (boarders + non-boarders) were assigned to the MICU Orange team at that time\n",
    "        # NOT INCLUSIVE OF THIS PATIENT\n",
    "        census = df5[(df5['intime'] < row['intime']) & \n",
    "                     (df5['outtime'] > row['intime']) & \n",
    "                     (df5['micu_team'] == 0)]\n",
    "        \n",
    "        # Determine how many NON-boarders the MICU-Orange service was taking care of at that time.\n",
    "        # NOT INCLUSIVE OF THIS PATIENT\n",
    "        nonboarders = census[census['curr_careunit'] == 'MICU']\n",
    "        \n",
    "        # Determine how many boarders the MICU-Orange service was taking care of at that time.\n",
    "        # NOT INCLUSIVE OF THIS PATIENT\n",
    "        outboarders = census[census['curr_careunit'] != 'MICU']\n",
    "#         outboarders = df5[(df5['transfers.intime'] < row['transfers.intime']) &\n",
    "#                           (df5['transfers.outtime'] > row['transfers.intime']) & \n",
    "#                           (df5['micu_team'] == 0) &\n",
    "#                           (df5['curr_ward'] != 'CC6D')]\n",
    "\n",
    "        # Determine how many patients the MICU-Orange service was taking care of at that time...\n",
    "        # ...IN THE SAME ROOM AS THIS PATIENT\n",
    "        # ...NOT INCLUSIVE OF THIS PATIENT\n",
    "        census_same_room = census[census['curr_careunit'] == row['curr_careunit']]\n",
    "        \n",
    "    # ... being taken care of by the MICU-Green team ...\n",
    "    else:\n",
    "        \n",
    "        # Determine how many patients (boarders + non-boarders) were assigned to the MICU Green team at that time\n",
    "        # NOT INCLUSIVE OF THIS PATIENT\n",
    "        census = df5[(df5['intime'] < row['intime']) & \n",
    "                     (df5['outtime'] > row['intime']) & \n",
    "                     (df5['micu_team'] == 1)]\n",
    "    \n",
    "        # Determine how many NON-boarders the MICU-Green service was taking care of at that time.\n",
    "        # NOT INCLUSIVE OF THIS PATIENT\n",
    "        nonboarders = census[census['curr_careunit'] == 'MICU']\n",
    "        \n",
    "        # Determine how many boarders the MICU-Green service was taking care of at that time.\n",
    "        # NOT INCLUSIVE OF THIS PATIENT\n",
    "        outboarders = census[census['curr_careunit'] != 'MICU']\n",
    "#         outboarders = df5[(df5['transfers.intime'] < row['transfers.intime']) &\n",
    "#                           (df5['transfers.outtime'] > row['transfers.intime']) & \n",
    "#                           (df5['micu_team'] == 1) &\n",
    "#                           (df5['curr_ward'] != 'CC7D')]\n",
    "\n",
    "        # Determine how many patients the MICU-Orange service was taking care of at that time...\n",
    "        # ...IN THE SAME ROOM AS THIS PATIENT\n",
    "        # ...NOT INCLUSIVE OF THIS PATIENT\n",
    "        census_same_room = census[census['curr_careunit'] == row['curr_careunit']]\n",
    "        \n",
    "    \n",
    "    df5.loc[row_index, 'team_census'] = len(census.index)\n",
    "    df5.loc[row_index, 'team_outboarders'] = len(outboarders)\n",
    "    df5.loc[row_index, 'team_census_same_room'] = len(census_same_room)\n",
    "\n",
    "\n",
    "\n",
    "\n",
    "df5['other_team_census'] = np.nan\n",
    "df5['other_team_outboarders'] = np.nan\n",
    "\n",
    "# For each MICU patient...\n",
    "for row_index, row in df5.iterrows():\n",
    "\n",
    "    # ... being taken care of by the MICU-Orange team ...\n",
    "    if (row['micu_team'] == 0):\n",
    "\n",
    "        # Determine how many patients (boarders + non-boarders) were assigned to the MICU Green team at that time\n",
    "        census = df5[(df5['intime'] < row['intime']) &\n",
    "                     (df5['outtime'] > row['intime']) &\n",
    "                     (df5['micu_team'] == 1)]\n",
    "\n",
    "        # Determine how many boarders the MICU-Green service was taking care of at that time.\n",
    "        outboarders = census[census['curr_careunit'] != 'MICU']\n",
    "    #         outboarders = df5[(df5['intime'] < row['intime']) &\n",
    "    #                           (df5['outtime'] > row['intime']) &\n",
    "    #                           (df5['micu_team'] == 1) &\n",
    "    #                           (df5['curr_ward'] != 'CC7D')]\n",
    "\n",
    "    # ... being taken care of by the MICU-Green team ...\n",
    "    else:\n",
    "\n",
    "        # Determine how many patients (boarders + non-boarders) were assigned to the MICU Orange team at that time\n",
    "        census = df5[(df5['intime'] < row['intime']) &\n",
    "                     (df5['outtime'] > row['intime']) &\n",
    "                     (df5['micu_team'] == 0)]\n",
    "\n",
    "        # Determine how many boarders the MICU-Orange service was taking care of at that time.\n",
    "        outboarders = census[census['curr_careunit'] != 'MICU']\n",
    "    #         outboarders = df5[(df5['intime'] < row['intime']) &\n",
    "    #                           (df5['outtime'] > row['intime']) &\n",
    "    #                           (df5['micu_team'] == 0) &\n",
    "    #                           (df5['curr_ward'] != 'CC6D')]\n",
    "\n",
    "    df5.loc[row_index, 'other_team_census'] = len(census.index)\n",
    "    df5.loc[row_index, 'other_team_outboarders'] = len(outboarders)\n",
    "\n"
   ]
  },
  {
   "cell_type": "code",
   "execution_count": 7,
   "metadata": {},
   "outputs": [
    {
     "data": {
      "text/plain": "18063"
     },
     "execution_count": 7,
     "metadata": {},
     "output_type": "execute_result"
    }
   ],
   "source": [
    "                 \n",
    "# Location restrict to the MSICU\n",
    "msicu_transfers = transfers[(transfers['curr_careunit'] == 'MSICU')]\n",
    "\n",
    "\n",
    "# In[12]:\n",
    "\n",
    "# Team census and outboarder count for the Med/Surg ICU (an ICU on the hospital's other campus)\n",
    "df5['msicu_team_census'] = np.nan\n",
    "# df5['msicu_team_outboarders'] = np.nan\n",
    "\n",
    "\n",
    "# For each MICU patient...\n",
    "for row_index, row in df5.iterrows():\n",
    "        \n",
    "    # Determine how many patients (boarders + non-boarders) were assigned to the MICU Green team at that time\n",
    "    census = msicu_transfers[(msicu_transfers['intime'] < row['intime']) & \n",
    "                             (msicu_transfers['outtime'] > row['intime'])]\n",
    "    \n",
    "    df5.loc[row_index, 'msicu_team_census'] = len(census.index)\n",
    "   \n",
    "\n",
    "# In[14]:\n",
    "\n",
    "# Add a column that estimates the EXPECTED number of outboarders\n",
    "df5['expected_team_outboarders'] = np.nan\n",
    "df5.expected_team_outboarders[(df5['micu_team'] == 0)] = (df5['team_census'] - (8 - df5['total_boarder_count']))\n",
    "df5.expected_team_outboarders[(df5['micu_team'] == 1)] = (df5['team_census'] - (8 - df5['total_boarder_count']))\n",
    "\n",
    "# Add a column that estimates the EXPECTED number of remaining beds in the nominal ICU of the team caring for the patient\n",
    "df5['remaining_beds'] = np.nan\n",
    "df5.remaining_beds[df5['micu_team'] == 0] = (8 - (df5['team_census'] - df5['team_outboarders']) - df5['total_boarder_count'])\n",
    "df5.remaining_beds[df5['micu_team'] == 1] = (8 - (df5['team_census'] - df5['team_outboarders']) - df5['total_boarder_count'])\n",
    "\n",
    "\n",
    "# In[15]:\n",
    "\n",
    "# Add a column that estimates the EXPECTED number of outboarders for the OTHER MICU team \n",
    "# (the one NOT taking care of the patient)\n",
    "df5['other_expected_team_outboarders'] = np.nan\n",
    "df5.other_expected_team_outboarders[(df5['micu_team'] == 0)] = (df5['other_team_census'] - (8 - df5['total_boarder_count']))\n",
    "df5.other_expected_team_outboarders[(df5['micu_team'] == 1)] = (df5['other_team_census'] - (8 - df5['total_boarder_count']))\n",
    "\n",
    "# Add a column that estimates the EXPECTED number of remaining beds in the OTHER MICU\n",
    "# (the one NOT taking care of the patient)\n",
    "df5['other_remaining_beds'] = np.nan\n",
    "df5.other_remaining_beds[(df5['micu_team'] == 0)] = (8 - (df5['other_team_census'] - df5['other_team_outboarders']) - df5['total_boarder_count'])\n",
    "df5.other_remaining_beds[(df5['micu_team'] == 1)] = (8 - (df5['other_team_census'] - df5['other_team_outboarders']) - df5['total_boarder_count'])\n",
    "\n",
    "df5['initial_remaining_beds'] = df5['remaining_beds'] + df5['other_remaining_beds'] + df5['msicu_team_census']\n",
    "\n",
    "df5.columns\n",
    "\n",
    "df5.icustay_id.nunique()"
   ]
  },
  {
   "cell_type": "code",
   "execution_count": 8,
   "metadata": {},
   "outputs": [
    {
     "data": {
      "text/plain": "(25622, 56)"
     },
     "execution_count": 8,
     "metadata": {},
     "output_type": "execute_result"
    }
   ],
   "source": [
    "callout.columns = callout.columns.str.lower()\n",
    "callout.columns\n",
    "\n",
    "df6 = pd.merge(df5, callout, left_on = 'hadm_id', right_on = \"hadm_id\", how = 'left')\n",
    "\n",
    "## define outcome\n",
    "## discharge from ICU: 0\n",
    "## gg at ICU or transfer to other icu\n",
    "\n",
    "callout.columns\n",
    "\n",
    "callout.callout_outcome.value_counts()\n",
    "\n",
    "patients.columns = patients.columns.str.lower()\n",
    "\n",
    "patients.expire_flag.value_counts()\n",
    "\n",
    "patients.subject_id.nunique()\n",
    "\n",
    "patients.columns\n",
    "\n",
    "patients.dod.isnull().sum()\n",
    "\n",
    "df6.shape"
   ]
  },
  {
   "cell_type": "code",
   "execution_count": 9,
   "metadata": {},
   "outputs": [
    {
     "data": {
      "text/plain": "0        2191-03-17\n1        2167-10-03\n2        2135-02-08\n3        2196-04-10\n4        2116-12-25\n            ...    \n12939    2161-07-15\n12940    2180-11-29\n12941    2157-02-22\n12942    2181-02-09\n12943    2144-07-27\nName: lasttime, Length: 12944, dtype: object"
     },
     "execution_count": 9,
     "metadata": {},
     "output_type": "execute_result"
    }
   ],
   "source": [
    "df7 = pd.merge(df6, patients, left_on = 'subject_id_x', right_on = \"subject_id\", how = 'left')\n",
    "\n",
    "list(df7.columns.sort_values())\n",
    "\n",
    "df7.shape\n",
    "\n",
    "df7 = df7.loc[:,~df7.columns.duplicated()]\n",
    "\n",
    "indicator = pd.DataFrame(df7.groupby('subject_id_x').outtime.max())\n",
    "\n",
    "indicator = indicator.reset_index()\n",
    "indicator.columns = ['subject_id_x', 'lasttime']\n",
    "\n",
    "indicator\n",
    "\n",
    "indicator.lasttime.dt.date"
   ]
  },
  {
   "cell_type": "code",
   "execution_count": 10,
   "metadata": {},
   "outputs": [
    {
     "data": {
      "text/plain": "boarder_status  within_24_hours\n0               0                  9318\n                1                  1869\n1               0                  1440\n                1                   316\ndtype: int64"
     },
     "execution_count": 10,
     "metadata": {},
     "output_type": "execute_result"
    }
   ],
   "source": [
    "df8 = pd.merge(df7, indicator, how = 'left')\n",
    "df8 = df8.loc[df8.outtime == df8.lasttime, :]\n",
    "\n",
    "df8 = df8.sort_values('outcometime').groupby(\"subject_id_x\").tail(1)\n",
    "\n",
    "df8.groupby(\"subject_id_x\").size().sort_values()\n",
    "\n",
    "# df8.loc[df8.subject_id_x == 87906,:]\n",
    "# print(df8.loc[df8.subject_id_x == 87906, ['hadm_id', 'hadm_id', 'lasttime', 'intime', 'outtime', 'dod', 'updatetime', 'outcometime', 'curr_careunit_x', 'callout_status', 'callout_outcome']])\n",
    "\n",
    "pd.DataFrame(df8.expire_flag, df8.dod.dt.date - df8.outtime.dt.date)\n",
    "\n",
    "df8.loc[:, [\"expire_flag\", \"dod\", 'outtime', 'callout_outcome']]\n",
    "\n",
    "df8[\"within_24_hours\"] = df8.dod.dt.date - df8.outtime.dt.date\n",
    "\n",
    "df8['within_24_hours'] = df8.apply(lambda x: 1 if x.within_24_hours <= pd.Timedelta('1 days') else 0, axis = 1)\n",
    "\n",
    "df8.loc[:, ['dod', 'outtime', 'expire_flag', 'within_24_hours']]\n",
    "\n",
    "df8.groupby(['expire_flag','within_24_hours']).size()\n",
    "\n",
    "df8.head()\n",
    "\n",
    "df8.groupby([\"boarder_status\", \"expire_flag\"]).size()\n",
    "\n",
    "df8.groupby([\"boarder_status\", \"within_24_hours\"]).size()"
   ]
  },
  {
   "cell_type": "code",
   "execution_count": 11,
   "metadata": {},
   "outputs": [],
   "source": [
    "a = 5544\n",
    "b = 5643\n",
    "c = 795\n",
    "d = 961\n",
    "p1 = a/(a + b)\n",
    "p2 = c/(c + d)\n",
    "p = (a + c)/(a + b + c + d)\n",
    "n1 = a+b\n",
    "n2 = c+d"
   ]
  },
  {
   "cell_type": "code",
   "execution_count": 12,
   "metadata": {},
   "outputs": [],
   "source": [
    "a = 9318\n",
    "b = 1869\n",
    "c = 1440\n",
    "d = 316\n",
    "p1 = a/(a + b)\n",
    "p2 = c/(c + d)\n",
    "p = (a + c)/(a + b + c + d)\n",
    "n1 = a+b\n",
    "n2 = c+d"
   ]
  },
  {
   "cell_type": "code",
   "execution_count": 13,
   "metadata": {},
   "outputs": [
    {
     "data": {
      "text/plain": "1.3401305199180076"
     },
     "execution_count": 13,
     "metadata": {},
     "output_type": "execute_result"
    }
   ],
   "source": [
    "p1\n",
    "\n",
    "p2\n",
    "\n",
    "(p1 - p2)/np.sqrt(p * (1-p) * (1/n1 + 1/n2))"
   ]
  },
  {
   "cell_type": "code",
   "execution_count": 14,
   "metadata": {},
   "outputs": [
    {
     "data": {
      "text/plain": "           dod\n26  2142-08-30\n27  2142-08-30\n28  2142-08-30\n29  2142-08-30\n30  2142-08-30\n..         ...\n135 2142-08-30\n136 2142-08-30\n137 2142-08-30\n138 2142-08-30\n139 2142-08-30\n\n[68 rows x 1 columns]",
      "text/html": "<div>\n<style scoped>\n    .dataframe tbody tr th:only-of-type {\n        vertical-align: middle;\n    }\n\n    .dataframe tbody tr th {\n        vertical-align: top;\n    }\n\n    .dataframe thead th {\n        text-align: right;\n    }\n</style>\n<table border=\"1\" class=\"dataframe\">\n  <thead>\n    <tr style=\"text-align: right;\">\n      <th></th>\n      <th>dod</th>\n    </tr>\n  </thead>\n  <tbody>\n    <tr>\n      <th>26</th>\n      <td>2142-08-30</td>\n    </tr>\n    <tr>\n      <th>27</th>\n      <td>2142-08-30</td>\n    </tr>\n    <tr>\n      <th>28</th>\n      <td>2142-08-30</td>\n    </tr>\n    <tr>\n      <th>29</th>\n      <td>2142-08-30</td>\n    </tr>\n    <tr>\n      <th>30</th>\n      <td>2142-08-30</td>\n    </tr>\n    <tr>\n      <th>...</th>\n      <td>...</td>\n    </tr>\n    <tr>\n      <th>135</th>\n      <td>2142-08-30</td>\n    </tr>\n    <tr>\n      <th>136</th>\n      <td>2142-08-30</td>\n    </tr>\n    <tr>\n      <th>137</th>\n      <td>2142-08-30</td>\n    </tr>\n    <tr>\n      <th>138</th>\n      <td>2142-08-30</td>\n    </tr>\n    <tr>\n      <th>139</th>\n      <td>2142-08-30</td>\n    </tr>\n  </tbody>\n</table>\n<p>68 rows × 1 columns</p>\n</div>"
     },
     "execution_count": 14,
     "metadata": {},
     "output_type": "execute_result"
    }
   ],
   "source": [
    "df7 = df7.loc[:,~df7.columns.duplicated()]\n",
    "\n",
    "df7.groupby(\"subject_id_x\").icustay_id.size().sort_values().describe()\n",
    "\n",
    "df7.loc[df7.subject_id_x == 109, 'outtime'].sort_values()\n",
    "\n",
    "df7.loc[df7.subject_id_x == 109, ['dod']]\n",
    "\n",
    "\n",
    "\n"
   ]
  },
  {
   "cell_type": "code",
   "execution_count": 16,
   "outputs": [
    {
     "data": {
      "text/plain": "   row_id_x  subject_id_x  hadm_id  icustay_id    dbsource eventtype  \\\n0    157765         29156   161773    293407.0     carevue     admit   \n1    178390         41552   120254    268176.0  metavision  transfer   \n2    179545         42357   113129    277715.0  metavision     admit   \n3    203202         58640   153364    247917.0  metavision  transfer   \n4    244991         88064   107776    257016.0  metavision  transfer   \n\n  prev_careunit curr_careunit_x  prev_wardid  curr_wardid_x  ... coagulopathy  \\\n0           NaN            MICU          NaN           52.0  ...            0   \n1           NaN            MICU         29.0           52.0  ...            0   \n2           NaN            MICU          NaN           52.0  ...            0   \n3          SICU            SICU         57.0           57.0  ...            0   \n4          MICU            MICU         52.0           52.0  ...            0   \n\n  obesity  weight_loss  fluid_electrolyte  blood_loss_anemia  \\\n0       0            0                  0                  0   \n1       0            0                  0                  0   \n2       0            0                  0                  0   \n3       0            0                  0                  0   \n4       0            0                  0                  0   \n\n  deficiency_anemias alcohol_abuse drug_abuse  psychoses  depression  \n0                  0             0          0          0           0  \n1                  0             0          0          0           0  \n2                  0             0          0          0           0  \n3                  0             0          0          0           0  \n4                  0             0          0          0           0  \n\n[5 rows x 118 columns]",
      "text/html": "<div>\n<style scoped>\n    .dataframe tbody tr th:only-of-type {\n        vertical-align: middle;\n    }\n\n    .dataframe tbody tr th {\n        vertical-align: top;\n    }\n\n    .dataframe thead th {\n        text-align: right;\n    }\n</style>\n<table border=\"1\" class=\"dataframe\">\n  <thead>\n    <tr style=\"text-align: right;\">\n      <th></th>\n      <th>row_id_x</th>\n      <th>subject_id_x</th>\n      <th>hadm_id</th>\n      <th>icustay_id</th>\n      <th>dbsource</th>\n      <th>eventtype</th>\n      <th>prev_careunit</th>\n      <th>curr_careunit_x</th>\n      <th>prev_wardid</th>\n      <th>curr_wardid_x</th>\n      <th>...</th>\n      <th>coagulopathy</th>\n      <th>obesity</th>\n      <th>weight_loss</th>\n      <th>fluid_electrolyte</th>\n      <th>blood_loss_anemia</th>\n      <th>deficiency_anemias</th>\n      <th>alcohol_abuse</th>\n      <th>drug_abuse</th>\n      <th>psychoses</th>\n      <th>depression</th>\n    </tr>\n  </thead>\n  <tbody>\n    <tr>\n      <th>0</th>\n      <td>157765</td>\n      <td>29156</td>\n      <td>161773</td>\n      <td>293407.0</td>\n      <td>carevue</td>\n      <td>admit</td>\n      <td>NaN</td>\n      <td>MICU</td>\n      <td>NaN</td>\n      <td>52.0</td>\n      <td>...</td>\n      <td>0</td>\n      <td>0</td>\n      <td>0</td>\n      <td>0</td>\n      <td>0</td>\n      <td>0</td>\n      <td>0</td>\n      <td>0</td>\n      <td>0</td>\n      <td>0</td>\n    </tr>\n    <tr>\n      <th>1</th>\n      <td>178390</td>\n      <td>41552</td>\n      <td>120254</td>\n      <td>268176.0</td>\n      <td>metavision</td>\n      <td>transfer</td>\n      <td>NaN</td>\n      <td>MICU</td>\n      <td>29.0</td>\n      <td>52.0</td>\n      <td>...</td>\n      <td>0</td>\n      <td>0</td>\n      <td>0</td>\n      <td>0</td>\n      <td>0</td>\n      <td>0</td>\n      <td>0</td>\n      <td>0</td>\n      <td>0</td>\n      <td>0</td>\n    </tr>\n    <tr>\n      <th>2</th>\n      <td>179545</td>\n      <td>42357</td>\n      <td>113129</td>\n      <td>277715.0</td>\n      <td>metavision</td>\n      <td>admit</td>\n      <td>NaN</td>\n      <td>MICU</td>\n      <td>NaN</td>\n      <td>52.0</td>\n      <td>...</td>\n      <td>0</td>\n      <td>0</td>\n      <td>0</td>\n      <td>0</td>\n      <td>0</td>\n      <td>0</td>\n      <td>0</td>\n      <td>0</td>\n      <td>0</td>\n      <td>0</td>\n    </tr>\n    <tr>\n      <th>3</th>\n      <td>203202</td>\n      <td>58640</td>\n      <td>153364</td>\n      <td>247917.0</td>\n      <td>metavision</td>\n      <td>transfer</td>\n      <td>SICU</td>\n      <td>SICU</td>\n      <td>57.0</td>\n      <td>57.0</td>\n      <td>...</td>\n      <td>0</td>\n      <td>0</td>\n      <td>0</td>\n      <td>0</td>\n      <td>0</td>\n      <td>0</td>\n      <td>0</td>\n      <td>0</td>\n      <td>0</td>\n      <td>0</td>\n    </tr>\n    <tr>\n      <th>4</th>\n      <td>244991</td>\n      <td>88064</td>\n      <td>107776</td>\n      <td>257016.0</td>\n      <td>metavision</td>\n      <td>transfer</td>\n      <td>MICU</td>\n      <td>MICU</td>\n      <td>52.0</td>\n      <td>52.0</td>\n      <td>...</td>\n      <td>0</td>\n      <td>0</td>\n      <td>0</td>\n      <td>0</td>\n      <td>0</td>\n      <td>0</td>\n      <td>0</td>\n      <td>0</td>\n      <td>0</td>\n      <td>0</td>\n    </tr>\n  </tbody>\n</table>\n<p>5 rows × 118 columns</p>\n</div>"
     },
     "execution_count": 16,
     "metadata": {},
     "output_type": "execute_result"
    }
   ],
   "source": [
    "### WE DEFINE A FINAL DATA TO WORK ON ###\n",
    "\n",
    "final_data = df8.copy()\n",
    "\n",
    "\n",
    "\n",
    "### FINAL DATA\n",
    "\n",
    "### add age\n",
    "\n",
    "final_data = pd.merge(final_data,oasis,how=\"left\",on =[\"hadm_id\",\"icustay_id\"])\n",
    "\n",
    "final_data = pd.merge(final_data,elixhauser,\n",
    "                      how=\"left\",\n",
    "                      on = [\"hadm_id\",\"subject_id\"])\n",
    "\n",
    "final_data.head()"
   ],
   "metadata": {
    "collapsed": false,
    "pycharm": {
     "name": "#%%\n"
    }
   }
  }
 ],
 "metadata": {
  "kernelspec": {
   "display_name": "Python 3",
   "language": "python",
   "name": "python3"
  },
  "language_info": {
   "codemirror_mode": {
    "name": "ipython",
    "version": 3
   },
   "file_extension": ".py",
   "mimetype": "text/x-python",
   "name": "python",
   "nbconvert_exporter": "python",
   "pygments_lexer": "ipython3",
   "version": "3.8.5"
  }
 },
 "nbformat": 4,
 "nbformat_minor": 4
}